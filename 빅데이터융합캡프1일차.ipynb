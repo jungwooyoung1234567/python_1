{
  "nbformat": 4,
  "nbformat_minor": 0,
  "metadata": {
    "colab": {
      "provenance": [],
      "authorship_tag": "ABX9TyP71BtEHwE44DYzNUrUSjnE",
      "include_colab_link": true
    },
    "kernelspec": {
      "name": "python3",
      "display_name": "Python 3"
    },
    "language_info": {
      "name": "python"
    }
  },
  "cells": [
    {
      "cell_type": "markdown",
      "metadata": {
        "id": "view-in-github",
        "colab_type": "text"
      },
      "source": [
        "<a href=\"https://colab.research.google.com/github/jungwooyoung1234567/python_1/blob/main/%EB%B9%85%EB%8D%B0%EC%9D%B4%ED%84%B0%EC%9C%B5%ED%95%A9%EC%BA%A1%ED%94%841%EC%9D%BC%EC%B0%A8.ipynb\" target=\"_parent\"><img src=\"https://colab.research.google.com/assets/colab-badge.svg\" alt=\"Open In Colab\"/></a>"
      ]
    },
    {
      "cell_type": "code",
      "execution_count": null,
      "metadata": {
        "colab": {
          "base_uri": "https://localhost:8080/"
        },
        "id": "q3XmoMe8ofuM",
        "outputId": "251bc3d5-bf26-4988-cb04-33db53430b02"
      },
      "outputs": [
        {
          "output_type": "stream",
          "name": "stdout",
          "text": [
            "7\n"
          ]
        }
      ],
      "source": [
        "list1=[]\n",
        "list2=[1,2,3,4,5,1,3]\n",
        "print(len(list2))"
      ]
    },
    {
      "cell_type": "code",
      "source": [
        "list2[3]=77\n",
        "print(list2)\n",
        "list2.append(100)\n",
        "print(list2)"
      ],
      "metadata": {
        "colab": {
          "base_uri": "https://localhost:8080/"
        },
        "id": "RrqCRCHYxA7O",
        "outputId": "7ad61133-6536-40ff-8a58-e5a3eb0e4a0d"
      },
      "execution_count": null,
      "outputs": [
        {
          "output_type": "stream",
          "name": "stdout",
          "text": [
            "[1, 2, 3, 77, 5, 1, 3]\n",
            "[1, 2, 3, 77, 5, 1, 3, 100]\n"
          ]
        }
      ]
    },
    {
      "cell_type": "code",
      "source": [
        "list2.insert(0,100)\n",
        "print(list2)"
      ],
      "metadata": {
        "colab": {
          "base_uri": "https://localhost:8080/"
        },
        "id": "F4IUc3I4xuOd",
        "outputId": "2f5fe204-be87-4ba4-b7bd-76f4419eac73"
      },
      "execution_count": null,
      "outputs": [
        {
          "output_type": "stream",
          "name": "stdout",
          "text": [
            "[100, 1, 2, 3, 77, 5, 1, 3, 100]\n"
          ]
        }
      ]
    },
    {
      "cell_type": "code",
      "source": [
        "print(\"nice one sonny\")"
      ],
      "metadata": {
        "id": "wEkk9ruh3q4z",
        "colab": {
          "base_uri": "https://localhost:8080/"
        },
        "outputId": "ed30a1cc-d8e0-4444-eabc-9b7c806e0a9a"
      },
      "execution_count": null,
      "outputs": [
        {
          "output_type": "stream",
          "name": "stdout",
          "text": [
            "nice one sonny\n"
          ]
        }
      ]
    },
    {
      "cell_type": "code",
      "source": [
        "food=[]\n",
        "print(\"1.보관 식재료 출력 2.식재료 추가 3.식재료 삭제 5.종료\")\n",
        "while menu!=5:\n",
        "  menu=int(input(\"관리메뉴를 선택하세요\"))\n",
        "  if menu==1:\n",
        "   print(food)\n",
        "   continue\n",
        "  elif menu==2:\n",
        "   food.append(input(\"추가 식재료를 입력하세요\"))\n",
        "   continue\n",
        "  elif menu==3:\n",
        "   food.remove(input(\"삭제 식재료를 입력하세요\"))\n",
        "   continue\n",
        "print(\"종료합니다\")"
      ],
      "metadata": {
        "colab": {
          "base_uri": "https://localhost:8080/"
        },
        "id": "TRREwUSI6A3x",
        "outputId": "b51a63ec-f0b1-4379-c30a-4e91b72cf961"
      },
      "execution_count": 19,
      "outputs": [
        {
          "name": "stdout",
          "output_type": "stream",
          "text": [
            "1.보관 식재료 출력 2.식재료 추가 3.식재료 삭제 5.종료\n",
            "['양상추', '옥수수']\n",
            "['양상추', '옥수수']\n",
            "['옥수수']\n",
            "관리메뉴를 선택하세요5\n"
          ]
        }
      ]
    }
  ]
}